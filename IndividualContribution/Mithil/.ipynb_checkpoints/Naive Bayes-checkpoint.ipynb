{
 "cells": [
  {
   "cell_type": "code",
   "execution_count": 50,
   "metadata": {
    "scrolled": true
   },
   "outputs": [
    {
     "name": "stdout",
     "output_type": "stream",
     "text": [
      "Dep_Delay_binary    1050422\n",
      "dtype: int64\n"
     ]
    }
   ],
   "source": [
    "import numpy as np\n",
    "import pandas as pd\n",
    "from sklearn import preprocessing\n",
    "from sklearn import tree\n",
    "\n",
    "df = pd.read_csv('Cleaned_data.csv')\n",
    "\n",
    "print df.iloc[:,[14]].sum()"
   ]
  },
  {
   "cell_type": "markdown",
   "metadata": {},
   "source": [
    "\n",
    "# Assumptions in Naive Bayes:\n",
    "\n",
    "1. The independent variables are actually independent. eg. Age and Salary predicting bought or not bought.\n",
    "\n",
    "But they may not be actually independent. But since we still apply Naive bayes, therefore we call it \"Naive\". It still gives good results.\n",
    "\n",
    "\n",
    "\n",
    "\n",
    "\n",
    "##### Question : Should upsampling and downsampling be done?       17% delayed flights only.\n"
   ]
  },
  {
   "cell_type": "code",
   "execution_count": 33,
   "metadata": {},
   "outputs": [],
   "source": [
    "tr_data = df.iloc[:,[2,3,4,5, 8,10,11,12,13]]\n",
    "tr_target = df.iloc[:,14]\n",
    "\n",
    "\n",
    "#print tr_data.head\n",
    "\n",
    "from sklearn.cross_validation import train_test_split\n",
    "X_train, X_test, y_train, y_test = train_test_split(tr_data, tr_target, test_size = 0.25, random_state = 0)"
   ]
  },
  {
   "cell_type": "code",
   "execution_count": 34,
   "metadata": {},
   "outputs": [
    {
     "name": "stdout",
     "output_type": "stream",
     "text": [
      "         MONTH  DAY  DAY_OF_WEEK  AIRLINE  DEPARTURE_TIME  AIR_TIME  DISTANCE  \\\n",
      "1032529      3   11            3        0          2155.0     199.0      1464   \n",
      "2214617      5   24            7        3          2117.0      55.0       363   \n",
      "2479600      6   10            3        9          1055.0      93.0       616   \n",
      "1615875      4   17            5        3           754.0     188.0      1522   \n",
      "3824469      8   31            1        9          1015.0     188.0      1352   \n",
      "\n",
      "         ARRIVAL_TIME  ARRIVAL_DELAY  \n",
      "1032529        2338.0           16.0  \n",
      "2214617        2234.0           32.0  \n",
      "2479600        1149.0          -14.0  \n",
      "1615875        1326.0           -5.0  \n",
      "3824469        1244.0           47.0  \n"
     ]
    }
   ],
   "source": [
    "print X_train.head()"
   ]
  },
  {
   "cell_type": "code",
   "execution_count": 35,
   "metadata": {},
   "outputs": [
    {
     "name": "stdout",
     "output_type": "stream",
     "text": [
      "1032529    1\n",
      "2214617    1\n",
      "2479600    0\n",
      "1615875    0\n",
      "3824469    1\n",
      "Name: Dep_Delay_binary, dtype: int64\n"
     ]
    }
   ],
   "source": [
    "print y_train.head()"
   ]
  },
  {
   "cell_type": "code",
   "execution_count": null,
   "metadata": {
    "collapsed": true
   },
   "outputs": [],
   "source": [
    "#Not including departure time and arrival time. Convert them to categorical - 3 hr intervals and add them.\n"
   ]
  },
  {
   "cell_type": "code",
   "execution_count": null,
   "metadata": {
    "collapsed": true
   },
   "outputs": [],
   "source": [
    "#. Categorical var in X_train"
   ]
  },
  {
   "cell_type": "code",
   "execution_count": 55,
   "metadata": {},
   "outputs": [],
   "source": [
    "X_train_cat = X_train.iloc[:, [0,1,2,3]]\n",
    "X_test_cat = X_test.iloc[:, [0,1,2,3]]\n"
   ]
  },
  {
   "cell_type": "code",
   "execution_count": 37,
   "metadata": {},
   "outputs": [
    {
     "data": {
      "text/plain": [
       "MultinomialNB(alpha=1.0, class_prior=None, fit_prior=True)"
      ]
     },
     "execution_count": 37,
     "metadata": {},
     "output_type": "execute_result"
    }
   ],
   "source": [
    "from sklearn.naive_bayes import MultinomialNB\n",
    "clf = MultinomialNB()\n",
    "\n",
    "clf.fit(X_train_cat, y_train)\n",
    "\n",
    "\n"
   ]
  },
  {
   "cell_type": "code",
   "execution_count": null,
   "metadata": {
    "collapsed": true
   },
   "outputs": [],
   "source": [
    "# Continuous var in X_train"
   ]
  },
  {
   "cell_type": "code",
   "execution_count": 57,
   "metadata": {
    "collapsed": true
   },
   "outputs": [],
   "source": [
    "X_train_cont = X_train.iloc[:, [5,6,8]]\n",
    "X_test_cont = X_test.iloc[:, [5,6,8]]\n",
    "\n"
   ]
  },
  {
   "cell_type": "code",
   "execution_count": 58,
   "metadata": {},
   "outputs": [
    {
     "data": {
      "text/plain": [
       "GaussianNB(priors=None)"
      ]
     },
     "execution_count": 58,
     "metadata": {},
     "output_type": "execute_result"
    }
   ],
   "source": [
    "from sklearn.naive_bayes import GaussianNB\n",
    "clf1 = GaussianNB()\n",
    "\n",
    "clf1.fit(X_train_cont, y_train)\n"
   ]
  },
  {
   "cell_type": "code",
   "execution_count": 59,
   "metadata": {},
   "outputs": [
    {
     "data": {
      "text/plain": [
       "0.91234664004670629"
      ]
     },
     "execution_count": 59,
     "metadata": {},
     "output_type": "execute_result"
    }
   ],
   "source": [
    "clf1.score(X_test_cont,y_test )"
   ]
  },
  {
   "cell_type": "code",
   "execution_count": 61,
   "metadata": {},
   "outputs": [],
   "source": [
    "#print y_test[1:20]\n",
    "#print clf1.predict(X_test_cont)[1:20]\n",
    "#print clf1.predict_proba(X_test_cont)[1:20]"
   ]
  },
  {
   "cell_type": "code",
   "execution_count": null,
   "metadata": {
    "collapsed": true
   },
   "outputs": [],
   "source": []
  },
  {
   "cell_type": "code",
   "execution_count": null,
   "metadata": {
    "collapsed": true
   },
   "outputs": [],
   "source": []
  },
  {
   "cell_type": "code",
   "execution_count": 56,
   "metadata": {},
   "outputs": [],
   "source": [
    "print y_test[1:20]\n",
    "#print clf.predict(X_test_cat)[1:800]\n",
    "print clf.predict_proba(X_test_cat)[1:20]\n",
    "print clf1.predict_proba(X_test_cont)[1:20]\n"
   ]
  },
  {
   "cell_type": "code",
   "execution_count": 42,
   "metadata": {
    "scrolled": true
   },
   "outputs": [
    {
     "name": "stdout",
     "output_type": "stream",
     "text": [
      "2111116    0\n",
      "1348511    0\n",
      "2702693    0\n",
      "5087381    0\n",
      "909574     0\n",
      "3143030    1\n",
      "2600342    1\n",
      "3650770    0\n",
      "3866930    0\n",
      "4155746    0\n",
      "1519277    0\n",
      "5475266    0\n",
      "251828     0\n",
      "3517773    0\n",
      "2367603    0\n",
      "4399219    0\n",
      "4695017    0\n",
      "5171863    1\n",
      "2825286    1\n",
      "2517430    0\n",
      "347036     0\n",
      "2822914    1\n",
      "2949755    0\n",
      "903352     1\n",
      "4262943    1\n",
      "3492165    0\n",
      "4784029    0\n",
      "5118213    0\n",
      "2213708    1\n",
      "1552622    0\n",
      "          ..\n",
      "2895981    1\n",
      "2242628    1\n",
      "5330046    0\n",
      "4374273    1\n",
      "2130689    1\n",
      "5614643    0\n",
      "352804     0\n",
      "4607794    0\n",
      "4583117    0\n",
      "4021265    0\n",
      "3361574    0\n",
      "3425021    0\n",
      "4273683    1\n",
      "3791684    0\n",
      "1447943    0\n",
      "957193     1\n",
      "558328     0\n",
      "1423403    0\n",
      "3658145    1\n",
      "4459608    0\n",
      "3346857    0\n",
      "220313     0\n",
      "2320904    1\n",
      "3760502    0\n",
      "4475849    0\n",
      "4780578    0\n",
      "4834538    0\n",
      "4138394    1\n",
      "2831736    1\n",
      "2537908    1\n",
      "Name: Dep_Delay_binary, dtype: int64\n"
     ]
    }
   ],
   "source": [
    "print y_test"
   ]
  },
  {
   "cell_type": "code",
   "execution_count": 44,
   "metadata": {},
   "outputs": [
    {
     "data": {
      "text/plain": [
       "0.81604925999403566"
      ]
     },
     "execution_count": 44,
     "metadata": {},
     "output_type": "execute_result"
    }
   ],
   "source": [
    "#Score\n",
    "clf.score(X_test_cat,y_test )\n"
   ]
  },
  {
   "cell_type": "code",
   "execution_count": null,
   "metadata": {
    "collapsed": true
   },
   "outputs": [],
   "source": []
  },
  {
   "cell_type": "code",
   "execution_count": 64,
   "metadata": {},
   "outputs": [
    {
     "data": {
      "text/plain": [
       "array([3, 8])"
      ]
     },
     "execution_count": 64,
     "metadata": {},
     "output_type": "execute_result"
    }
   ],
   "source": [
    "a = [1,2]\n",
    "b = [3,4]\n",
    "c = np.multiply(a,b)\n",
    "c"
   ]
  },
  {
   "cell_type": "code",
   "execution_count": null,
   "metadata": {
    "collapsed": true
   },
   "outputs": [],
   "source": []
  },
  {
   "cell_type": "code",
   "execution_count": 65,
   "metadata": {
    "scrolled": true
   },
   "outputs": [
    {
     "name": "stdout",
     "output_type": "stream",
     "text": [
      "[[ 0.85732271  0.14267729]\n",
      " [ 0.8649499   0.1350501 ]\n",
      " [ 0.88536387  0.11463613]\n",
      " [ 0.71133099  0.28866901]\n",
      " [ 0.73558225  0.26441775]\n",
      " [ 0.77103313  0.22896687]\n",
      " [ 0.7536674   0.2463326 ]\n",
      " [ 0.85583191  0.14416809]\n",
      " [ 0.75779121  0.24220879]\n",
      " [ 0.84101553  0.15898447]\n",
      " [ 0.85450497  0.14549503]\n",
      " [ 0.84051316  0.15948684]\n",
      " [ 0.73292163  0.26707837]\n",
      " [ 0.72407706  0.27592294]\n",
      " [ 0.89512693  0.10487307]\n",
      " [ 0.81812991  0.18187009]\n",
      " [ 0.84324531  0.15675469]\n",
      " [ 0.87155199  0.12844801]\n",
      " [ 0.75016387  0.24983613]]\n",
      "[[  9.67959880e-01   3.20401200e-02]\n",
      " [  9.71121423e-01   2.88785771e-02]\n",
      " [  9.74316859e-01   2.56831411e-02]\n",
      " [  9.68604479e-01   3.13955210e-02]\n",
      " [  1.12003451e-04   9.99887997e-01]\n",
      " [  1.63975020e-42   1.00000000e+00]\n",
      " [  9.55075049e-01   4.49249512e-02]\n",
      " [  9.71299410e-01   2.87005897e-02]\n",
      " [  9.73025898e-01   2.69741023e-02]\n",
      " [  9.42256503e-01   5.77434970e-02]\n",
      " [  9.70125649e-01   2.98743515e-02]\n",
      " [  9.04716097e-01   9.52839026e-02]\n",
      " [  9.63485603e-01   3.65143968e-02]\n",
      " [  9.68582029e-01   3.14179712e-02]\n",
      " [  9.71731262e-01   2.82687375e-02]\n",
      " [  9.69901828e-01   3.00981723e-02]\n",
      " [  2.82280402e-01   7.17719598e-01]\n",
      " [  7.54754450e-09   9.99999992e-01]\n",
      " [  9.72479774e-01   2.75202263e-02]]\n"
     ]
    }
   ],
   "source": [
    "print clf.predict_proba(X_test_cat)[1:20]\n",
    "print clf1.predict_proba(X_test_cont)[1:20]"
   ]
  },
  {
   "cell_type": "code",
   "execution_count": 90,
   "metadata": {},
   "outputs": [],
   "source": [
    "c = np.multiply(clf.predict_proba(X_test_cat)[1:2000],clf1.predict_proba(X_test_cont)[1:2000])\n",
    "#c"
   ]
  },
  {
   "cell_type": "code",
   "execution_count": 94,
   "metadata": {
    "scrolled": true
   },
   "outputs": [
    {
     "data": {
      "text/plain": [
       "2111116    0\n",
       "1348511    0\n",
       "2702693    0\n",
       "5087381    0\n",
       "909574     0\n",
       "3143030    1\n",
       "2600342    1\n",
       "3650770    0\n",
       "3866930    0\n",
       "4155746    0\n",
       "Name: Dep_Delay_binary, dtype: int64"
      ]
     },
     "execution_count": 94,
     "metadata": {},
     "output_type": "execute_result"
    }
   ],
   "source": [
    "#Final predicted value of delay vs Non- delay\n",
    "fin = np.zeros(2000)\n",
    "#print fin\n",
    "\n",
    "for i in range(0,len(clf.predict_proba(X_test_cat)[0:1999])):\n",
    "    if c[i][0] > c[i][1]:\n",
    "        fin[i] = 0\n",
    "    else:\n",
    "        fin[i] = 1\n",
    "        \n",
    "fin\n",
    "y_test[0:10]"
   ]
  },
  {
   "cell_type": "code",
   "execution_count": null,
   "metadata": {
    "collapsed": true
   },
   "outputs": [],
   "source": [
    "# Notes : create a dataframe / pandas series to store the predicted value of classification (0,1). And make a cross tab\n",
    "#with y_test to check accuracy."
   ]
  },
  {
   "cell_type": "code",
   "execution_count": 96,
   "metadata": {},
   "outputs": [
    {
     "data": {
      "text/html": [
       "<div>\n",
       "<table border=\"1\" class=\"dataframe\">\n",
       "  <thead>\n",
       "    <tr style=\"text-align: right;\">\n",
       "      <th>col_0</th>\n",
       "      <th>0.0</th>\n",
       "      <th>1.0</th>\n",
       "    </tr>\n",
       "    <tr>\n",
       "      <th>Dep_Delay_binary</th>\n",
       "      <th></th>\n",
       "      <th></th>\n",
       "    </tr>\n",
       "  </thead>\n",
       "  <tbody>\n",
       "    <tr>\n",
       "      <th>0</th>\n",
       "      <td>1433</td>\n",
       "      <td>181</td>\n",
       "    </tr>\n",
       "    <tr>\n",
       "      <th>1</th>\n",
       "      <td>344</td>\n",
       "      <td>41</td>\n",
       "    </tr>\n",
       "  </tbody>\n",
       "</table>\n",
       "</div>"
      ],
      "text/plain": [
       "col_0              0.0  1.0\n",
       "Dep_Delay_binary           \n",
       "0                 1433  181\n",
       "1                  344   41"
      ]
     },
     "execution_count": 96,
     "metadata": {},
     "output_type": "execute_result"
    }
   ],
   "source": [
    "pd.crosstab(y_test[0:1999], fin[0:1999])"
   ]
  },
  {
   "cell_type": "code",
   "execution_count": 98,
   "metadata": {},
   "outputs": [
    {
     "data": {
      "text/plain": [
       "0.7373686843421711"
      ]
     },
     "execution_count": 98,
     "metadata": {},
     "output_type": "execute_result"
    }
   ],
   "source": [
    "Accuracy = (1433+41) / float(1433+181+344+41)\n",
    "Accuracy"
   ]
  },
  {
   "cell_type": "code",
   "execution_count": null,
   "metadata": {
    "collapsed": true
   },
   "outputs": [],
   "source": []
  }
 ],
 "metadata": {
  "kernelspec": {
   "display_name": "Python 2",
   "language": "python",
   "name": "python2"
  },
  "language_info": {
   "codemirror_mode": {
    "name": "ipython",
    "version": 2
   },
   "file_extension": ".py",
   "mimetype": "text/x-python",
   "name": "python",
   "nbconvert_exporter": "python",
   "pygments_lexer": "ipython2",
   "version": "2.7.14"
  }
 },
 "nbformat": 4,
 "nbformat_minor": 1
}

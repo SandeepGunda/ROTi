{
 "cells": [
  {
   "cell_type": "code",
   "execution_count": 1,
   "metadata": {
    "collapsed": true
   },
   "outputs": [],
   "source": [
    "import numpy as np\n",
    "import pandas as pd\n",
    "from sklearn import preprocessing\n",
    "from sklearn import tree\n",
    "from sklearn.model_selection import train_test_split\n",
    "from sklearn.preprocessing import StandardScaler\n",
    "# from matplotlib.colors import ListedColormap\n",
    "# import matplotlib.pyplot as plt\n",
    "from sklearn.linear_model import LogisticRegression"
   ]
  },
  {
   "cell_type": "code",
   "execution_count": 27,
   "metadata": {
    "collapsed": false
   },
   "outputs": [],
   "source": [
    "data = pd.read_csv('data.csv')"
   ]
  },
  {
   "cell_type": "code",
   "execution_count": 28,
   "metadata": {
    "collapsed": true
   },
   "outputs": [],
   "source": [
    "data = data.dropna(axis = 0, how = 'any')"
   ]
  },
  {
   "cell_type": "code",
   "execution_count": 29,
   "metadata": {
    "collapsed": false
   },
   "outputs": [],
   "source": [
    "data = data.iloc[:,data.columns != 'Unnamed: 0']"
   ]
  },
  {
   "cell_type": "code",
   "execution_count": 30,
   "metadata": {
    "collapsed": true
   },
   "outputs": [],
   "source": [
    "data.iloc[:,0] = data.iloc[:,0].astype('category')"
   ]
  },
  {
   "cell_type": "code",
   "execution_count": 31,
   "metadata": {
    "collapsed": true
   },
   "outputs": [],
   "source": [
    "data.iloc[:,14] = data.iloc[:,14].astype('category')"
   ]
  },
  {
   "cell_type": "code",
   "execution_count": 32,
   "metadata": {
    "collapsed": false
   },
   "outputs": [
    {
     "data": {
      "text/html": [
       "<div>\n",
       "<table border=\"1\" class=\"dataframe\">\n",
       "  <thead>\n",
       "    <tr style=\"text-align: right;\">\n",
       "      <th></th>\n",
       "      <th>DAY_OF_WEEK</th>\n",
       "      <th>AIRLINE</th>\n",
       "      <th>ORIGIN_AIRPORT</th>\n",
       "      <th>DESTINATION_AIRPORT</th>\n",
       "      <th>SCHEDULED_DEPARTURE</th>\n",
       "      <th>DEPARTURE_TIME</th>\n",
       "      <th>DEPARTURE_DELAY</th>\n",
       "      <th>ELAPSED_TIME</th>\n",
       "      <th>AIR_TIME</th>\n",
       "      <th>DISTANCE</th>\n",
       "      <th>SCHEDULED_ARRIVAL</th>\n",
       "      <th>ARRIVAL_TIME</th>\n",
       "      <th>ARRIVAL_DELAY</th>\n",
       "      <th>FLIGHT_DATE</th>\n",
       "      <th>DAY_TYPE</th>\n",
       "      <th>DEP_DELAY_BIN</th>\n",
       "    </tr>\n",
       "  </thead>\n",
       "  <tbody>\n",
       "    <tr>\n",
       "      <th>0</th>\n",
       "      <td>4</td>\n",
       "      <td>AS</td>\n",
       "      <td>ANC</td>\n",
       "      <td>SEA</td>\n",
       "      <td>2015-01-01 00:05:00</td>\n",
       "      <td>23:54:00</td>\n",
       "      <td>-11.0</td>\n",
       "      <td>194.0</td>\n",
       "      <td>169.0</td>\n",
       "      <td>1448</td>\n",
       "      <td>04:30:00</td>\n",
       "      <td>04:08:00</td>\n",
       "      <td>-22.0</td>\n",
       "      <td>2015-01-01 00:00:00</td>\n",
       "      <td>1.0</td>\n",
       "      <td>1</td>\n",
       "    </tr>\n",
       "    <tr>\n",
       "      <th>1</th>\n",
       "      <td>4</td>\n",
       "      <td>AA</td>\n",
       "      <td>LAX</td>\n",
       "      <td>PBI</td>\n",
       "      <td>2015-01-01 00:10:00</td>\n",
       "      <td>00:02:00</td>\n",
       "      <td>-8.0</td>\n",
       "      <td>279.0</td>\n",
       "      <td>263.0</td>\n",
       "      <td>2330</td>\n",
       "      <td>07:50:00</td>\n",
       "      <td>07:41:00</td>\n",
       "      <td>-9.0</td>\n",
       "      <td>2015-01-01 00:00:00</td>\n",
       "      <td>1.0</td>\n",
       "      <td>1</td>\n",
       "    </tr>\n",
       "    <tr>\n",
       "      <th>2</th>\n",
       "      <td>4</td>\n",
       "      <td>US</td>\n",
       "      <td>SFO</td>\n",
       "      <td>CLT</td>\n",
       "      <td>2015-01-01 00:20:00</td>\n",
       "      <td>00:18:00</td>\n",
       "      <td>-2.0</td>\n",
       "      <td>293.0</td>\n",
       "      <td>266.0</td>\n",
       "      <td>2296</td>\n",
       "      <td>08:06:00</td>\n",
       "      <td>08:11:00</td>\n",
       "      <td>5.0</td>\n",
       "      <td>2015-01-01 00:00:00</td>\n",
       "      <td>1.0</td>\n",
       "      <td>1</td>\n",
       "    </tr>\n",
       "    <tr>\n",
       "      <th>3</th>\n",
       "      <td>4</td>\n",
       "      <td>AA</td>\n",
       "      <td>LAX</td>\n",
       "      <td>MIA</td>\n",
       "      <td>2015-01-01 00:20:00</td>\n",
       "      <td>00:15:00</td>\n",
       "      <td>-5.0</td>\n",
       "      <td>281.0</td>\n",
       "      <td>258.0</td>\n",
       "      <td>2342</td>\n",
       "      <td>08:05:00</td>\n",
       "      <td>07:56:00</td>\n",
       "      <td>-9.0</td>\n",
       "      <td>2015-01-01 00:00:00</td>\n",
       "      <td>1.0</td>\n",
       "      <td>1</td>\n",
       "    </tr>\n",
       "  </tbody>\n",
       "</table>\n",
       "</div>"
      ],
      "text/plain": [
       "  DAY_OF_WEEK AIRLINE ORIGIN_AIRPORT DESTINATION_AIRPORT  SCHEDULED_DEPARTURE  \\\n",
       "0           4      AS            ANC                 SEA  2015-01-01 00:05:00   \n",
       "1           4      AA            LAX                 PBI  2015-01-01 00:10:00   \n",
       "2           4      US            SFO                 CLT  2015-01-01 00:20:00   \n",
       "3           4      AA            LAX                 MIA  2015-01-01 00:20:00   \n",
       "\n",
       "  DEPARTURE_TIME  DEPARTURE_DELAY  ELAPSED_TIME  AIR_TIME  DISTANCE  \\\n",
       "0       23:54:00            -11.0         194.0     169.0      1448   \n",
       "1       00:02:00             -8.0         279.0     263.0      2330   \n",
       "2       00:18:00             -2.0         293.0     266.0      2296   \n",
       "3       00:15:00             -5.0         281.0     258.0      2342   \n",
       "\n",
       "  SCHEDULED_ARRIVAL ARRIVAL_TIME  ARRIVAL_DELAY          FLIGHT_DATE DAY_TYPE  \\\n",
       "0          04:30:00     04:08:00          -22.0  2015-01-01 00:00:00      1.0   \n",
       "1          07:50:00     07:41:00           -9.0  2015-01-01 00:00:00      1.0   \n",
       "2          08:06:00     08:11:00            5.0  2015-01-01 00:00:00      1.0   \n",
       "3          08:05:00     07:56:00           -9.0  2015-01-01 00:00:00      1.0   \n",
       "\n",
       "   DEP_DELAY_BIN  \n",
       "0              1  \n",
       "1              1  \n",
       "2              1  \n",
       "3              1  "
      ]
     },
     "execution_count": 32,
     "metadata": {},
     "output_type": "execute_result"
    }
   ],
   "source": [
    "data.head(4)"
   ]
  },
  {
   "cell_type": "code",
   "execution_count": 33,
   "metadata": {
    "collapsed": false
   },
   "outputs": [
    {
     "data": {
      "text/plain": [
       "DAY_OF_WEEK            0\n",
       "AIRLINE                0\n",
       "ORIGIN_AIRPORT         0\n",
       "DESTINATION_AIRPORT    0\n",
       "SCHEDULED_DEPARTURE    0\n",
       "DEPARTURE_TIME         0\n",
       "DEPARTURE_DELAY        0\n",
       "ELAPSED_TIME           0\n",
       "AIR_TIME               0\n",
       "DISTANCE               0\n",
       "SCHEDULED_ARRIVAL      0\n",
       "ARRIVAL_TIME           0\n",
       "ARRIVAL_DELAY          0\n",
       "FLIGHT_DATE            0\n",
       "DAY_TYPE               0\n",
       "DEP_DELAY_BIN          0\n",
       "dtype: int64"
      ]
     },
     "execution_count": 33,
     "metadata": {},
     "output_type": "execute_result"
    }
   ],
   "source": [
    "data.isnull().sum()"
   ]
  },
  {
   "cell_type": "code",
   "execution_count": 34,
   "metadata": {
    "collapsed": false
   },
   "outputs": [
    {
     "data": {
      "text/html": [
       "<div>\n",
       "<table border=\"1\" class=\"dataframe\">\n",
       "  <thead>\n",
       "    <tr style=\"text-align: right;\">\n",
       "      <th></th>\n",
       "      <th>DAY_OF_WEEK</th>\n",
       "      <th>AIRLINE</th>\n",
       "      <th>ORIGIN_AIRPORT</th>\n",
       "      <th>DESTINATION_AIRPORT</th>\n",
       "      <th>SCHEDULED_DEPARTURE</th>\n",
       "      <th>DEPARTURE_TIME</th>\n",
       "      <th>DEPARTURE_DELAY</th>\n",
       "      <th>ELAPSED_TIME</th>\n",
       "      <th>AIR_TIME</th>\n",
       "      <th>DISTANCE</th>\n",
       "      <th>SCHEDULED_ARRIVAL</th>\n",
       "      <th>ARRIVAL_TIME</th>\n",
       "      <th>ARRIVAL_DELAY</th>\n",
       "      <th>FLIGHT_DATE</th>\n",
       "      <th>DAY_TYPE</th>\n",
       "      <th>DEP_DELAY_BIN</th>\n",
       "    </tr>\n",
       "  </thead>\n",
       "  <tbody>\n",
       "    <tr>\n",
       "      <th>0</th>\n",
       "      <td>4</td>\n",
       "      <td>1</td>\n",
       "      <td>ANC</td>\n",
       "      <td>SEA</td>\n",
       "      <td>2015-01-01 00:05:00</td>\n",
       "      <td>23:54:00</td>\n",
       "      <td>-11.0</td>\n",
       "      <td>194.0</td>\n",
       "      <td>169.0</td>\n",
       "      <td>1448</td>\n",
       "      <td>04:30:00</td>\n",
       "      <td>04:08:00</td>\n",
       "      <td>-22.0</td>\n",
       "      <td>2015-01-01 00:00:00</td>\n",
       "      <td>1.0</td>\n",
       "      <td>1</td>\n",
       "    </tr>\n",
       "    <tr>\n",
       "      <th>1</th>\n",
       "      <td>4</td>\n",
       "      <td>0</td>\n",
       "      <td>LAX</td>\n",
       "      <td>PBI</td>\n",
       "      <td>2015-01-01 00:10:00</td>\n",
       "      <td>00:02:00</td>\n",
       "      <td>-8.0</td>\n",
       "      <td>279.0</td>\n",
       "      <td>263.0</td>\n",
       "      <td>2330</td>\n",
       "      <td>07:50:00</td>\n",
       "      <td>07:41:00</td>\n",
       "      <td>-9.0</td>\n",
       "      <td>2015-01-01 00:00:00</td>\n",
       "      <td>1.0</td>\n",
       "      <td>1</td>\n",
       "    </tr>\n",
       "    <tr>\n",
       "      <th>2</th>\n",
       "      <td>4</td>\n",
       "      <td>11</td>\n",
       "      <td>SFO</td>\n",
       "      <td>CLT</td>\n",
       "      <td>2015-01-01 00:20:00</td>\n",
       "      <td>00:18:00</td>\n",
       "      <td>-2.0</td>\n",
       "      <td>293.0</td>\n",
       "      <td>266.0</td>\n",
       "      <td>2296</td>\n",
       "      <td>08:06:00</td>\n",
       "      <td>08:11:00</td>\n",
       "      <td>5.0</td>\n",
       "      <td>2015-01-01 00:00:00</td>\n",
       "      <td>1.0</td>\n",
       "      <td>1</td>\n",
       "    </tr>\n",
       "    <tr>\n",
       "      <th>3</th>\n",
       "      <td>4</td>\n",
       "      <td>0</td>\n",
       "      <td>LAX</td>\n",
       "      <td>MIA</td>\n",
       "      <td>2015-01-01 00:20:00</td>\n",
       "      <td>00:15:00</td>\n",
       "      <td>-5.0</td>\n",
       "      <td>281.0</td>\n",
       "      <td>258.0</td>\n",
       "      <td>2342</td>\n",
       "      <td>08:05:00</td>\n",
       "      <td>07:56:00</td>\n",
       "      <td>-9.0</td>\n",
       "      <td>2015-01-01 00:00:00</td>\n",
       "      <td>1.0</td>\n",
       "      <td>1</td>\n",
       "    </tr>\n",
       "    <tr>\n",
       "      <th>4</th>\n",
       "      <td>4</td>\n",
       "      <td>1</td>\n",
       "      <td>SEA</td>\n",
       "      <td>ANC</td>\n",
       "      <td>2015-01-01 00:25:00</td>\n",
       "      <td>00:24:00</td>\n",
       "      <td>-1.0</td>\n",
       "      <td>215.0</td>\n",
       "      <td>199.0</td>\n",
       "      <td>1448</td>\n",
       "      <td>03:20:00</td>\n",
       "      <td>02:59:00</td>\n",
       "      <td>-21.0</td>\n",
       "      <td>2015-01-01 00:00:00</td>\n",
       "      <td>1.0</td>\n",
       "      <td>1</td>\n",
       "    </tr>\n",
       "  </tbody>\n",
       "</table>\n",
       "</div>"
      ],
      "text/plain": [
       "  DAY_OF_WEEK  AIRLINE ORIGIN_AIRPORT DESTINATION_AIRPORT  \\\n",
       "0           4        1            ANC                 SEA   \n",
       "1           4        0            LAX                 PBI   \n",
       "2           4       11            SFO                 CLT   \n",
       "3           4        0            LAX                 MIA   \n",
       "4           4        1            SEA                 ANC   \n",
       "\n",
       "   SCHEDULED_DEPARTURE DEPARTURE_TIME  DEPARTURE_DELAY  ELAPSED_TIME  \\\n",
       "0  2015-01-01 00:05:00       23:54:00            -11.0         194.0   \n",
       "1  2015-01-01 00:10:00       00:02:00             -8.0         279.0   \n",
       "2  2015-01-01 00:20:00       00:18:00             -2.0         293.0   \n",
       "3  2015-01-01 00:20:00       00:15:00             -5.0         281.0   \n",
       "4  2015-01-01 00:25:00       00:24:00             -1.0         215.0   \n",
       "\n",
       "   AIR_TIME  DISTANCE SCHEDULED_ARRIVAL ARRIVAL_TIME  ARRIVAL_DELAY  \\\n",
       "0     169.0      1448          04:30:00     04:08:00          -22.0   \n",
       "1     263.0      2330          07:50:00     07:41:00           -9.0   \n",
       "2     266.0      2296          08:06:00     08:11:00            5.0   \n",
       "3     258.0      2342          08:05:00     07:56:00           -9.0   \n",
       "4     199.0      1448          03:20:00     02:59:00          -21.0   \n",
       "\n",
       "           FLIGHT_DATE DAY_TYPE  DEP_DELAY_BIN  \n",
       "0  2015-01-01 00:00:00      1.0              1  \n",
       "1  2015-01-01 00:00:00      1.0              1  \n",
       "2  2015-01-01 00:00:00      1.0              1  \n",
       "3  2015-01-01 00:00:00      1.0              1  \n",
       "4  2015-01-01 00:00:00      1.0              1  "
      ]
     },
     "execution_count": 34,
     "metadata": {},
     "output_type": "execute_result"
    }
   ],
   "source": [
    "le = preprocessing.LabelEncoder()\n",
    "le.fit(data.iloc[:, 1])\n",
    "col_1_transformed = le.transform(data.iloc[:, 1])\n",
    "# print col_2_transformed\n",
    "data.iloc[:, 1] = col_1_transformed\n",
    "\n",
    "\n",
    "\n",
    "data.head()"
   ]
  },
  {
   "cell_type": "code",
   "execution_count": 35,
   "metadata": {
    "collapsed": true
   },
   "outputs": [],
   "source": [
    "tr_data = data.iloc[:, [0, 1, 14]]\n",
    "tr_target = data.iloc[:, 15] "
   ]
  },
  {
   "cell_type": "code",
   "execution_count": 36,
   "metadata": {
    "collapsed": true
   },
   "outputs": [],
   "source": [
    "X_train, X_test, Y_train, Y_test = train_test_split(tr_data, tr_target, test_size=0.30, random_state=0)"
   ]
  },
  {
   "cell_type": "code",
   "execution_count": 37,
   "metadata": {
    "collapsed": false
   },
   "outputs": [],
   "source": [
    "sc = StandardScaler()\n",
    "sc.fit(X_train)\n",
    "\n",
    "X_train_std = sc.transform(X_train)\n",
    "X_test_std = sc.transform(X_test)"
   ]
  },
  {
   "cell_type": "code",
   "execution_count": 38,
   "metadata": {
    "collapsed": false
   },
   "outputs": [
    {
     "data": {
      "text/plain": [
       "LogisticRegression(C=1000.0, class_weight=None, dual=False,\n",
       "          fit_intercept=True, intercept_scaling=1, max_iter=100,\n",
       "          multi_class='ovr', n_jobs=1, penalty='l2', random_state=0,\n",
       "          solver='liblinear', tol=0.0001, verbose=0, warm_start=False)"
      ]
     },
     "execution_count": 38,
     "metadata": {},
     "output_type": "execute_result"
    }
   ],
   "source": [
    "lr = LogisticRegression(C=1000.0, random_state=0)\n",
    "lr.fit(X_train_std, Y_train)"
   ]
  },
  {
   "cell_type": "code",
   "execution_count": 39,
   "metadata": {
    "collapsed": false
   },
   "outputs": [
    {
     "name": "stdout",
     "output_type": "stream",
     "text": [
      "[[ 0.78926883  0.15084115  0.05252788  0.00736214]]\n"
     ]
    }
   ],
   "source": [
    "print(lr.predict_proba(X_test_std[0, :].reshape(1, -1)))\n"
   ]
  },
  {
   "cell_type": "code",
   "execution_count": 40,
   "metadata": {
    "collapsed": false
   },
   "outputs": [
    {
     "name": "stdout",
     "output_type": "stream",
     "text": [
      "[1 1 1 ..., 1 1 1]\n"
     ]
    }
   ],
   "source": [
    "print(lr.predict(X_test_std))"
   ]
  },
  {
   "cell_type": "code",
   "execution_count": 41,
   "metadata": {
    "collapsed": true
   },
   "outputs": [],
   "source": [
    "y_pred = lr.predict(X_test_std)"
   ]
  },
  {
   "cell_type": "code",
   "execution_count": 42,
   "metadata": {
    "collapsed": true
   },
   "outputs": [],
   "source": [
    "from sklearn.metrics import confusion_matrix"
   ]
  },
  {
   "cell_type": "code",
   "execution_count": 43,
   "metadata": {
    "collapsed": false
   },
   "outputs": [
    {
     "ename": "ValueError",
     "evalue": "Found input variables with inconsistent numbers of samples: [4653118, 1395936]",
     "output_type": "error",
     "traceback": [
      "\u001b[0;31m---------------------------------------------------------------------------\u001b[0m",
      "\u001b[0;31mValueError\u001b[0m                                Traceback (most recent call last)",
      "\u001b[0;32m<ipython-input-43-3b09f89636f2>\u001b[0m in \u001b[0;36m<module>\u001b[0;34m()\u001b[0m\n\u001b[0;32m----> 1\u001b[0;31m \u001b[0mconfusion_matrix\u001b[0m\u001b[0;34m(\u001b[0m\u001b[0mtr_target\u001b[0m\u001b[0;34m,\u001b[0m \u001b[0my_pred\u001b[0m\u001b[0;34m)\u001b[0m\u001b[0;34m\u001b[0m\u001b[0m\n\u001b[0m",
      "\u001b[0;32m/usr/lib64/python2.7/site-packages/sklearn/metrics/classification.pyc\u001b[0m in \u001b[0;36mconfusion_matrix\u001b[0;34m(y_true, y_pred, labels, sample_weight)\u001b[0m\n\u001b[1;32m    238\u001b[0m \u001b[0;34m\u001b[0m\u001b[0m\n\u001b[1;32m    239\u001b[0m     \"\"\"\n\u001b[0;32m--> 240\u001b[0;31m     \u001b[0my_type\u001b[0m\u001b[0;34m,\u001b[0m \u001b[0my_true\u001b[0m\u001b[0;34m,\u001b[0m \u001b[0my_pred\u001b[0m \u001b[0;34m=\u001b[0m \u001b[0m_check_targets\u001b[0m\u001b[0;34m(\u001b[0m\u001b[0my_true\u001b[0m\u001b[0;34m,\u001b[0m \u001b[0my_pred\u001b[0m\u001b[0;34m)\u001b[0m\u001b[0;34m\u001b[0m\u001b[0m\n\u001b[0m\u001b[1;32m    241\u001b[0m     \u001b[0;32mif\u001b[0m \u001b[0my_type\u001b[0m \u001b[0;32mnot\u001b[0m \u001b[0;32min\u001b[0m \u001b[0;34m(\u001b[0m\u001b[0;34m\"binary\"\u001b[0m\u001b[0;34m,\u001b[0m \u001b[0;34m\"multiclass\"\u001b[0m\u001b[0;34m)\u001b[0m\u001b[0;34m:\u001b[0m\u001b[0;34m\u001b[0m\u001b[0m\n\u001b[1;32m    242\u001b[0m         \u001b[0;32mraise\u001b[0m \u001b[0mValueError\u001b[0m\u001b[0;34m(\u001b[0m\u001b[0;34m\"%s is not supported\"\u001b[0m \u001b[0;34m%\u001b[0m \u001b[0my_type\u001b[0m\u001b[0;34m)\u001b[0m\u001b[0;34m\u001b[0m\u001b[0m\n",
      "\u001b[0;32m/usr/lib64/python2.7/site-packages/sklearn/metrics/classification.pyc\u001b[0m in \u001b[0;36m_check_targets\u001b[0;34m(y_true, y_pred)\u001b[0m\n\u001b[1;32m     70\u001b[0m     \u001b[0my_pred\u001b[0m \u001b[0;34m:\u001b[0m \u001b[0marray\u001b[0m \u001b[0;32mor\u001b[0m \u001b[0mindicator\u001b[0m \u001b[0mmatrix\u001b[0m\u001b[0;34m\u001b[0m\u001b[0m\n\u001b[1;32m     71\u001b[0m     \"\"\"\n\u001b[0;32m---> 72\u001b[0;31m     \u001b[0mcheck_consistent_length\u001b[0m\u001b[0;34m(\u001b[0m\u001b[0my_true\u001b[0m\u001b[0;34m,\u001b[0m \u001b[0my_pred\u001b[0m\u001b[0;34m)\u001b[0m\u001b[0;34m\u001b[0m\u001b[0m\n\u001b[0m\u001b[1;32m     73\u001b[0m     \u001b[0mtype_true\u001b[0m \u001b[0;34m=\u001b[0m \u001b[0mtype_of_target\u001b[0m\u001b[0;34m(\u001b[0m\u001b[0my_true\u001b[0m\u001b[0;34m)\u001b[0m\u001b[0;34m\u001b[0m\u001b[0m\n\u001b[1;32m     74\u001b[0m     \u001b[0mtype_pred\u001b[0m \u001b[0;34m=\u001b[0m \u001b[0mtype_of_target\u001b[0m\u001b[0;34m(\u001b[0m\u001b[0my_pred\u001b[0m\u001b[0;34m)\u001b[0m\u001b[0;34m\u001b[0m\u001b[0m\n",
      "\u001b[0;32m/usr/lib64/python2.7/site-packages/sklearn/utils/validation.pyc\u001b[0m in \u001b[0;36mcheck_consistent_length\u001b[0;34m(*arrays)\u001b[0m\n\u001b[1;32m    179\u001b[0m     \u001b[0;32mif\u001b[0m \u001b[0mlen\u001b[0m\u001b[0;34m(\u001b[0m\u001b[0muniques\u001b[0m\u001b[0;34m)\u001b[0m \u001b[0;34m>\u001b[0m \u001b[0;36m1\u001b[0m\u001b[0;34m:\u001b[0m\u001b[0;34m\u001b[0m\u001b[0m\n\u001b[1;32m    180\u001b[0m         raise ValueError(\"Found input variables with inconsistent numbers of\"\n\u001b[0;32m--> 181\u001b[0;31m                          \" samples: %r\" % [int(l) for l in lengths])\n\u001b[0m\u001b[1;32m    182\u001b[0m \u001b[0;34m\u001b[0m\u001b[0m\n\u001b[1;32m    183\u001b[0m \u001b[0;34m\u001b[0m\u001b[0m\n",
      "\u001b[0;31mValueError\u001b[0m: Found input variables with inconsistent numbers of samples: [4653118, 1395936]"
     ]
    }
   ],
   "source": [
    "confusion_matrix(tr_target, y_pred)"
   ]
  },
  {
   "cell_type": "code",
   "execution_count": null,
   "metadata": {
    "collapsed": true
   },
   "outputs": [],
   "source": []
  }
 ],
 "metadata": {
  "kernelspec": {
   "display_name": "Python 2",
   "language": "python",
   "name": "python2"
  },
  "language_info": {
   "codemirror_mode": {
    "name": "ipython",
    "version": 2
   },
   "file_extension": ".py",
   "mimetype": "text/x-python",
   "name": "python",
   "nbconvert_exporter": "python",
   "pygments_lexer": "ipython2",
   "version": "2.7.5"
  }
 },
 "nbformat": 4,
 "nbformat_minor": 0
}

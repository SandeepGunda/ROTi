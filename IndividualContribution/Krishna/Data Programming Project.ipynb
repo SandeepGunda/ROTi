{
 "cells": [
  {
   "cell_type": "code",
   "execution_count": 2,
   "metadata": {
    "collapsed": false
   },
   "outputs": [],
   "source": [
    "import numpy as np\n",
    "import pandas as pd\n",
    "import csv\n",
    "from sklearn import tree\n",
    "from sklearn.tree import DecisionTreeClassifier\n",
    "from sklearn.model_selection import train_test_split\n",
    "from sklearn import preprocessing\n",
    "from sklearn.metrics import confusion_matrix,accuracy_score\n",
    "from sklearn.metrics import precision_recall_fscore_support as score\n",
    "from sklearn.ensemble import RandomForestClassifier"
   ]
  },
  {
   "cell_type": "code",
   "execution_count": 3,
   "metadata": {
    "collapsed": false
   },
   "outputs": [
    {
     "name": "stderr",
     "output_type": "stream",
     "text": [
      "/usr/lib/python2.7/site-packages/IPython/core/interactiveshell.py:2717: DtypeWarning: Columns (7,8) have mixed types. Specify dtype option on import or set low_memory=False.\n",
      "  interactivity=interactivity, compiler=compiler, result=result)\n"
     ]
    }
   ],
   "source": [
    "flight_data = pd.read_csv('/home/kkanagalananthapadm1/flights.csv')\n",
    "airport_data = pd.read_csv('/home/kkanagalananthapadm1/airports.csv')\n",
    "holiday_data = pd.read_csv('/home/kkanagalananthapadm1/Holiday_List.csv')"
   ]
  },
  {
   "cell_type": "code",
   "execution_count": null,
   "metadata": {
    "collapsed": false
   },
   "outputs": [],
   "source": []
  },
  {
   "cell_type": "code",
   "execution_count": 133,
   "metadata": {
    "collapsed": false
   },
   "outputs": [],
   "source": [
    "flight_data['FLIGHT_DATE'] = pd.to_datetime(flight_data[['YEAR','MONTH','DAY']])\n",
    "holiday_data['FLIGHT_DATE'] = pd.to_datetime(holiday_data[['YEAR','MONTH','DAY']])"
   ]
  },
  {
   "cell_type": "code",
   "execution_count": 134,
   "metadata": {
    "collapsed": true
   },
   "outputs": [],
   "source": [
    "# List All the redundant columns\n",
    "col_list = [ 'TAIL_NUMBER','TAXI_OUT', 'WHEELS_OFF', 'WHEELS_ON', 'TAXI_IN','YEAR','MONTH','DAY','AIR_SYSTEM_DELAY',\n",
    "            'SECURITY_DELAY','AIRLINE_DELAY','LATE_AIRCRAFT_DELAY','WEATHER_DELAY']"
   ]
  },
  {
   "cell_type": "code",
   "execution_count": 135,
   "metadata": {
    "collapsed": false
   },
   "outputs": [],
   "source": [
    "# Drop All the redundant columns\n",
    "flight_data.drop(col_list,inplace=True,axis=1)\n",
    "holiday_data.drop(['YEAR','MONTH','DAY'],inplace=True,axis=1)\n"
   ]
  },
  {
   "cell_type": "code",
   "execution_count": 136,
   "metadata": {
    "collapsed": false
   },
   "outputs": [],
   "source": [
    "# Merge Holiday Data to Flight Data\n",
    "flight_data = pd.merge(flight_data,holiday_data,on = 'FLIGHT_DATE',how='left')\n",
    "\n",
    "# Create a bin for Target Variable Departure Delay\n",
    "flight_data['DEP_DELAY_BIN'] = np.where(flight_data['DEPARTURE_DELAY'] < 15, 1, np.where(flight_data['DEPARTURE_DELAY'] < 60, 2,np.where(flight_data['DEPARTURE_DELAY'] < 180, 3,4)))\n"
   ]
  },
  {
   "cell_type": "code",
   "execution_count": 137,
   "metadata": {
    "collapsed": false
   },
   "outputs": [],
   "source": [
    "# Add Non-Holiday days rows with zero\n",
    "flight_data['DAY_TYPE'].fillna(value=0,inplace=True)"
   ]
  },
  {
   "cell_type": "code",
   "execution_count": 138,
   "metadata": {
    "collapsed": false
   },
   "outputs": [],
   "source": [
    "# Create a bin for Target Variable Departure Delay\n",
    "flight_data['DEP_DELAY_BIN'] = np.where(flight_data['DEPARTURE_DELAY'] < 15, 1, np.where(flight_data['DEPARTURE_DELAY'] < 60, 2,np.where(flight_data['DEPARTURE_DELAY'] < 180, 3,4)))\n"
   ]
  },
  {
   "cell_type": "code",
   "execution_count": 169,
   "metadata": {
    "collapsed": false,
    "scrolled": true
   },
   "outputs": [
    {
     "data": {
      "text/plain": [
       "array(['ANC', 'LAX', 'SFO', 'SEA', 'LAS', 'DEN', 'SLC', 'PDX', 'FAI',\n",
       "       'MSP', 'PHX', 'SJU', 'PBG', 'IAG', 'PSE', 'BQN', 'ORD', 'GEG',\n",
       "       'HNL', 'ONT', 'MCO', 'BOS', 'HIB', 'ABR', 'MAF', 'DFW', 'MKE',\n",
       "       'IAH', 'BNA', 'BRO', 'VPS', 'BOI', 'BJI', 'SGF', 'PHL', 'SBN',\n",
       "       'RDD', 'EUG', 'IAD', 'BUF', 'PWM', 'JFK', 'CRP', 'PIA', 'FAT',\n",
       "       'SMF', 'AUS', 'MCI', 'ATL', 'JAX', 'MFR', 'IDA', 'MSN', 'DCA',\n",
       "       'SAT', 'CHS', 'SBA', 'SMX', 'IND', 'CLE', 'GSP', 'BDL', 'ABI',\n",
       "       'RIC', 'BFL', 'OMA', 'RDM', 'FLL', 'CID', 'TPA', 'SYR', 'ROC',\n",
       "       'TYR', 'LAN', 'XNA', 'GSO', 'EWR', 'PBI', 'RSW', 'OAK', 'PVD',\n",
       "       'RNO', 'PIT', 'ABQ', 'MIA', 'BWI', 'LGA', 'TUL', 'LIT', 'MSY',\n",
       "       'OKC', 'ATW', 'PNS', 'MEM', 'TYS', 'MHT', 'SAV', 'CLT', 'GRB',\n",
       "       'ABE', 'JAN', 'OAJ', 'FAR', 'ERI', 'LEX', 'CWA', 'MSO', 'TTN',\n",
       "       'AMA', 'CLL', 'HOU', 'JLN', 'MLI', 'RDU', 'CVG', 'MHK', 'MOB',\n",
       "       'TLH', 'BHM', 'CAE', 'TXK', 'ACY', 'DTW', 'RAP', 'TUS', 'EAU',\n",
       "       'DLH', 'FSD', 'INL', 'CMX', 'SPI', 'CLD', 'COD', 'CMH', 'LRD',\n",
       "       'PSC', 'CPR', 'ACV', 'DAL', 'PAH', 'MRY', 'ESC', 'ISN', 'PSP',\n",
       "       'MFE', 'STL', 'BTV', 'FSM', 'AEX', 'SPS', 'ACT', 'SJT', 'MTJ',\n",
       "       'GCC', 'OGG', 'SJC', 'GUC', 'ORF', 'MOT', 'MLU', 'KOA', 'SAN',\n",
       "       'LAW', 'PIB', 'MGM', 'SBP', 'COS', 'LAR', 'DRO', 'BIS', 'ITO',\n",
       "       'BTR', 'GRI', 'HLN', 'BZN', 'MDW', 'MDT', 'SCE', 'LIH', 'TWF',\n",
       "       'BPT', 'GPT', 'STC', 'HPN', 'MLB', 'PLN', 'CIU', 'CAK', 'DSM',\n",
       "       'BLI', 'SHV', 'ROW', 'FWA', 'SNA', 'ALB', 'HOB', 'LNK', 'CMI',\n",
       "       'COU', 'GTF', 'EKO', 'LGB', 'AVL', 'HSV', 'SAF', 'GRR', 'SUX',\n",
       "       'LFT', 'HYS', 'ELP', 'DVL', 'ISP', 'BUR', 'DAB', 'DAY', 'GRK',\n",
       "       'GJT', 'BMI', 'LBE', 'ASE', 'RKS', 'GUM', 'TVC', 'ALO', 'IMT',\n",
       "       'LCH', 'JNU', 'JAC', 'MEI', 'DBQ', 'GCK', 'GNV', 'BRD', 'DIK',\n",
       "       'SDF', 'LBB', 'AVP', 'BTM', 'ELM', 'PIH', 'ICT', 'SUN', 'LWS',\n",
       "       'VEL', 'STT', 'YUM', 'FLG', 'FCA', 'HDN', 'JMS', 'ROA', 'CHA',\n",
       "       'EYW', 'MYR', 'CRW', 'MQT', 'CHO', 'ECP', 'EVV', 'EGE', 'MBS',\n",
       "       'GFK', 'TOL', 'BIL', 'OTZ', 'KTN', 'STX', 'ILM', 'PUB', 'RHI',\n",
       "       'CDC', 'HRL', 'SCC', 'FNT', 'LSE', 'MMH', 'APN', 'AGS', 'CEC',\n",
       "       'DHN', 'WRG', 'PHF', 'CNY', 'BRW', 'GGG', 'AZO', 'SRQ', 'ORH',\n",
       "       'TRI', 'VLD', 'SIT', 'BQK', 'PSG', 'FAY', 'MKG', 'CSG', 'EWN',\n",
       "       'OME', 'SGU', 'RST', 'GTR', 'BET', 'ABY', 'SWF', 'ILG', 'ADK',\n",
       "       'UST', 'YAK', 'CDV', 'OTH', 'ADQ', 'PPG', 'BGM', 'BGR', 'ITH',\n",
       "       'ACK', 'MVY', 'WYS', 'DLG', 'AKN', 'GST', 'HYA', '14747', '14771',\n",
       "       '12889', '12892', '14869', '10299', '11292', '14107', '11630',\n",
       "       '10732', '14254', '10141', '10627', '11982', '12173', '13930',\n",
       "       '14683', '12266', '11618', '10721', '13487', '11884', '15919',\n",
       "       '13851', '11111', '10693', '12191', '14783', '15016', '14487',\n",
       "       '10423', '15370', '11953', '13891', '15376', '11778', '11278',\n",
       "       '14100', '13204', '15304', '11637', '14842', '10155', '11775',\n",
       "       '11298', '11057', '13931', '10821', '14122', '11049', '10990',\n",
       "       '10631', '13158', '14108', '13198', '11447', '12206', '13495',\n",
       "       '14057', '15624', '10747', '15411', '12891', '10994', '13256',\n",
       "       '10792', '14492', '12451', '13127', '10781', '14960', '12278',\n",
       "       '14685', '11995', '13485', '11977', '10257', '13796', '13232',\n",
       "       '13296', '14570', '14893', '14524', '12217', '10713', '10208',\n",
       "       '10136', '11603', '14689', '11471', '11315', '13264', '12478',\n",
       "       '14814', '11308', '11066', '12896', '10397', '14307', '11721',\n",
       "       '11140', '10185', '13277', '11203', '13342', '11433', '11697',\n",
       "       '12953', '10599', '12156', '14952', '10620', '11042', '15096',\n",
       "       '10408', '15249', '11423', '12915', '12264', '12339', '10140',\n",
       "       '13871', '14027', '13244', '11267', '11540', '14576', '10868',\n",
       "       '13486', '13476', '14489', '12945', '15607', '10529', '11986',\n",
       "       '14635', '13303', '10785', '15380', '11996', '10561', '10874',\n",
       "       '13367', '10146', '10431', '11973', '10980', '12197', '14098',\n",
       "       '12323', '10577', '11150', '10135', '11617', '13795', '13029',\n",
       "       '11003', '11146', '11577', '15356', '11259', '10279', '14321',\n",
       "       '14843', '11638', '14828', '11481', '12951', '10434', '12448',\n",
       "       '14730', '15323', '14252', '11193', '10849', '14193', '14986',\n",
       "       '11641', '12992', '13422', '11612', '11823', '11980', '13290',\n",
       "       '10158', '10685', '13377', '11109', '11076', '11122', '11865',\n",
       "       '14543', '14905', '11587', '14457', '12335', '12343', '12003',\n",
       "       '10157', '12884', '14633', '15048', '10268', '15295', '12389',\n",
       "       '11525', '14262', '12888', '12391', '11648', '14696', '12758',\n",
       "       '13830', '10469', '15412', '10731', '14679', '14831', '11413',\n",
       "       '13433', '12982', '11867', '14698', '11537', '15389', '12402',\n",
       "       '11337', '13360', '13076', '14006', '10728', '15401', '13230',\n",
       "       '12016', '11067', '11274', '11921', '12519', '11013', '10779',\n",
       "       '14150', '14794', '12511', '12177', '12523', '14908', '12007',\n",
       "       '14588', '13577', '13061', '15041', '14109', '10800', '12954',\n",
       "       '12441', '12898', '11695', '16218', '14113', '11624', '11503',\n",
       "       '10739', '14574', '14711', '12129', '15070', '14520', '13184',\n",
       "       '11252', '12280', '13241', '11898', '15024', '14674', '10551',\n",
       "       '12819', '13459', '10581', '13970', '10372', '10918', '14709',\n",
       "       '12255', 11267, 12266, 10821, 14771, 11433, 11982, 11905, 15411,\n",
       "       14679, 14108, 10397, 13871, 11618, 14574, 10423, 11259, 10800,\n",
       "       11140, 12191, 12889, 13198, 10529, 10693, 13232, 11540, 14570,\n",
       "       14635, 14831, 11298, 13204, 11278, 14100, 12892, 12478, 13930,\n",
       "       15304, 14107, 12523, 12954, 11697, 14057, 12339, 13487, 14893,\n",
       "       11986, 11292, 14576, 15370, 12402, 14908, 12953, 12758, 15016,\n",
       "       10721, 12264, 10685, 11612, 13277, 11057, 12891, 12197, 11193,\n",
       "       13495, 13891, 13244, 14843, 14747, 11996, 10333, 14262, 11695,\n",
       "       13342, 14698, 10431, 15376, 12451, 14524, 13830, 13796, 14122,\n",
       "       14960, 16218, 10713, 11066, 10208, 14683, 14869, 14492, 11638,\n",
       "       11413, 10792, 10408, 14689, 10980, 14952, 12951, 15323, 11884,\n",
       "       14307, 14730, 14783, 11603, 11977, 11921, 13577, 13061, 13851,\n",
       "       11042, 12448, 12992, 10874, 12896, 11308, 12173, 12206, 13377,\n",
       "       10747, 13256, 13303, 10185, 10599, 10140, 15295, 11898, 13795,\n",
       "       10728, 10994, 12391, 10299, 12217, 13290, 12007, 11109, 15096,\n",
       "       10627, 13433, 15249, 12278, 12915, 11637, 13931, 13485, 11721,\n",
       "       11775, 13476, 15841, 14027, 15380, 12945, 11315, 15919, 13360,\n",
       "       10868, 14986, 12982, 10279, 11150, 13264, 14193, 11823, 13367,\n",
       "       10469, 11423, 11337, 11252, 13029, 14696, 11049, 13296, 14685,\n",
       "       13158, 12323, 10257, 14588, 11274, 13344, 13933, 15412, 13422,\n",
       "       11146, 15991, 13230, 14794, 11003, 14828, 10781, 10990, 10785,\n",
       "       10434, 14457, 11481, 11537, 10136, 14814, 10754, 10135, 10731,\n",
       "       13127, 14321, 10849, 14098, 10146, 15607, 11624, 12177, 10158,\n",
       "       12884, 15624, 14256, 11973, 14842, 15356, 10561, 14113, 15389,\n",
       "       14489, 12094, 12888, 13076, 12129, 13873, 10157, 11995, 10631,\n",
       "       12441, 12343, 14252, 11097, 10732, 10154, 11122, 11641, 13486,\n",
       "       12003, 10620, 10779, 12335, 11076, 15041, 12156, 12280, 10926,\n",
       "       12819, 11865, 12519, 11778, 10551, 12389, 11953, 12898, 15024,\n",
       "       10155, 11013, 10372, 11587, 13964, 11980, 11630, 11648, 14905,\n",
       "       11525, 15070, 11471, 11111, 14633, 11447, 11203, 13241, 12511,\n",
       "       11067, 10268, 13184, 10141, 13541, 14150, 15027, 14109, 15048,\n",
       "       14006, 10739, 14520, 11617, 14487, 11867, 14674, 14543, 10577,\n",
       "       10170, 11577, 14709, 14711, 12255, 10165, 10918, 15401, 13970,\n",
       "       15497, 12265, 14254, 10581, 12016, 11503, 13459, 14222, 14025,\n",
       "       13502, '15841', '13344', '15991', '10754', '14256', '13873',\n",
       "       '11097', '10926', '13964', '11905', '15027', '13933', '10170',\n",
       "       '10333', '14222', '14025', '13502', '15497', '12265'], dtype=object)"
      ]
     },
     "execution_count": 169,
     "metadata": {},
     "output_type": "execute_result"
    }
   ],
   "source": [
    "flight_data['ORIGIN_AIRPORT'].unique()"
   ]
  },
  {
   "cell_type": "code",
   "execution_count": 53,
   "metadata": {
    "collapsed": false
   },
   "outputs": [],
   "source": [
    "flight_data.dropna(subset=['ELAPSED_TIME','AIR_TIME'],inplace=True)"
   ]
  },
  {
   "cell_type": "code",
   "execution_count": 54,
   "metadata": {
    "collapsed": false
   },
   "outputs": [
    {
     "data": {
      "text/plain": [
       "(5714008, 21)"
      ]
     },
     "execution_count": 54,
     "metadata": {},
     "output_type": "execute_result"
    }
   ],
   "source": [
    "flight_data.shape"
   ]
  },
  {
   "cell_type": "code",
   "execution_count": 60,
   "metadata": {
    "collapsed": false
   },
   "outputs": [
    {
     "data": {
      "text/html": [
       "<div>\n",
       "<table border=\"1\" class=\"dataframe\">\n",
       "  <thead>\n",
       "    <tr>\n",
       "      <th></th>\n",
       "      <th colspan=\"5\" halign=\"left\">DEPARTURE_DELAY</th>\n",
       "    </tr>\n",
       "    <tr>\n",
       "      <th></th>\n",
       "      <th>count</th>\n",
       "      <th>mean</th>\n",
       "      <th>median</th>\n",
       "      <th>max</th>\n",
       "      <th>min</th>\n",
       "    </tr>\n",
       "    <tr>\n",
       "      <th>AIRLINE</th>\n",
       "      <th></th>\n",
       "      <th></th>\n",
       "      <th></th>\n",
       "      <th></th>\n",
       "      <th></th>\n",
       "    </tr>\n",
       "  </thead>\n",
       "  <tbody>\n",
       "    <tr>\n",
       "      <th>AA</th>\n",
       "      <td>244539</td>\n",
       "      <td>34.225052</td>\n",
       "      <td>15.0</td>\n",
       "      <td>1988.0</td>\n",
       "      <td>1.0</td>\n",
       "    </tr>\n",
       "    <tr>\n",
       "      <th>AS</th>\n",
       "      <td>43358</td>\n",
       "      <td>25.852438</td>\n",
       "      <td>11.0</td>\n",
       "      <td>963.0</td>\n",
       "      <td>1.0</td>\n",
       "    </tr>\n",
       "    <tr>\n",
       "      <th>B6</th>\n",
       "      <td>101574</td>\n",
       "      <td>37.507600</td>\n",
       "      <td>18.0</td>\n",
       "      <td>1006.0</td>\n",
       "      <td>1.0</td>\n",
       "    </tr>\n",
       "    <tr>\n",
       "      <th>DL</th>\n",
       "      <td>281538</td>\n",
       "      <td>29.551439</td>\n",
       "      <td>12.0</td>\n",
       "      <td>1289.0</td>\n",
       "      <td>1.0</td>\n",
       "    </tr>\n",
       "    <tr>\n",
       "      <th>EV</th>\n",
       "      <td>168577</td>\n",
       "      <td>40.661970</td>\n",
       "      <td>19.0</td>\n",
       "      <td>1236.0</td>\n",
       "      <td>1.0</td>\n",
       "    </tr>\n",
       "    <tr>\n",
       "      <th>F9</th>\n",
       "      <td>34788</td>\n",
       "      <td>44.459268</td>\n",
       "      <td>20.0</td>\n",
       "      <td>1112.0</td>\n",
       "      <td>1.0</td>\n",
       "    </tr>\n",
       "    <tr>\n",
       "      <th>HA</th>\n",
       "      <td>20120</td>\n",
       "      <td>16.789314</td>\n",
       "      <td>7.0</td>\n",
       "      <td>1433.0</td>\n",
       "      <td>1.0</td>\n",
       "    </tr>\n",
       "    <tr>\n",
       "      <th>MQ</th>\n",
       "      <td>92822</td>\n",
       "      <td>39.890037</td>\n",
       "      <td>21.0</td>\n",
       "      <td>1544.0</td>\n",
       "      <td>1.0</td>\n",
       "    </tr>\n",
       "    <tr>\n",
       "      <th>NK</th>\n",
       "      <td>51922</td>\n",
       "      <td>41.832653</td>\n",
       "      <td>21.0</td>\n",
       "      <td>836.0</td>\n",
       "      <td>1.0</td>\n",
       "    </tr>\n",
       "    <tr>\n",
       "      <th>OO</th>\n",
       "      <td>170495</td>\n",
       "      <td>39.092126</td>\n",
       "      <td>18.0</td>\n",
       "      <td>1378.0</td>\n",
       "      <td>1.0</td>\n",
       "    </tr>\n",
       "    <tr>\n",
       "      <th>UA</th>\n",
       "      <td>255368</td>\n",
       "      <td>32.441054</td>\n",
       "      <td>13.0</td>\n",
       "      <td>1314.0</td>\n",
       "      <td>1.0</td>\n",
       "    </tr>\n",
       "    <tr>\n",
       "      <th>US</th>\n",
       "      <td>62254</td>\n",
       "      <td>28.371992</td>\n",
       "      <td>13.0</td>\n",
       "      <td>759.0</td>\n",
       "      <td>1.0</td>\n",
       "    </tr>\n",
       "    <tr>\n",
       "      <th>VX</th>\n",
       "      <td>23298</td>\n",
       "      <td>30.252640</td>\n",
       "      <td>13.0</td>\n",
       "      <td>644.0</td>\n",
       "      <td>1.0</td>\n",
       "    </tr>\n",
       "    <tr>\n",
       "      <th>WN</th>\n",
       "      <td>564396</td>\n",
       "      <td>26.847949</td>\n",
       "      <td>13.0</td>\n",
       "      <td>665.0</td>\n",
       "      <td>1.0</td>\n",
       "    </tr>\n",
       "  </tbody>\n",
       "</table>\n",
       "</div>"
      ],
      "text/plain": [
       "        DEPARTURE_DELAY                               \n",
       "                  count       mean median     max  min\n",
       "AIRLINE                                               \n",
       "AA               244539  34.225052   15.0  1988.0  1.0\n",
       "AS                43358  25.852438   11.0   963.0  1.0\n",
       "B6               101574  37.507600   18.0  1006.0  1.0\n",
       "DL               281538  29.551439   12.0  1289.0  1.0\n",
       "EV               168577  40.661970   19.0  1236.0  1.0\n",
       "F9                34788  44.459268   20.0  1112.0  1.0\n",
       "HA                20120  16.789314    7.0  1433.0  1.0\n",
       "MQ                92822  39.890037   21.0  1544.0  1.0\n",
       "NK                51922  41.832653   21.0   836.0  1.0\n",
       "OO               170495  39.092126   18.0  1378.0  1.0\n",
       "UA               255368  32.441054   13.0  1314.0  1.0\n",
       "US                62254  28.371992   13.0   759.0  1.0\n",
       "VX                23298  30.252640   13.0   644.0  1.0\n",
       "WN               564396  26.847949   13.0   665.0  1.0"
      ]
     },
     "execution_count": 60,
     "metadata": {},
     "output_type": "execute_result"
    }
   ],
   "source": [
    "FLIGHT_NUMBER_MEAN_DELAY_METRIC = flight_data.loc[flight_data['DEPARTURE_DELAY']>0,['AIRLINE','DEPARTURE_DELAY']].groupby(['AIRLINE']).agg(['count','mean','median','max','min'])\n",
    "FLIGHT_NUMBER_MEAN_DELAY_METRIC"
   ]
  },
  {
   "cell_type": "code",
   "execution_count": 63,
   "metadata": {
    "collapsed": false
   },
   "outputs": [
    {
     "data": {
      "text/html": [
       "<div>\n",
       "<table border=\"1\" class=\"dataframe\">\n",
       "  <thead>\n",
       "    <tr style=\"text-align: right;\">\n",
       "      <th></th>\n",
       "      <th>AIRLINE</th>\n",
       "      <th>DEPARTURE_DELAY</th>\n",
       "    </tr>\n",
       "    <tr>\n",
       "      <th>AIRLINE</th>\n",
       "      <th></th>\n",
       "      <th></th>\n",
       "    </tr>\n",
       "  </thead>\n",
       "  <tbody>\n",
       "    <tr>\n",
       "      <th>AA</th>\n",
       "      <td>244539</td>\n",
       "      <td>244539</td>\n",
       "    </tr>\n",
       "    <tr>\n",
       "      <th>AS</th>\n",
       "      <td>43358</td>\n",
       "      <td>43358</td>\n",
       "    </tr>\n",
       "    <tr>\n",
       "      <th>B6</th>\n",
       "      <td>101574</td>\n",
       "      <td>101574</td>\n",
       "    </tr>\n",
       "    <tr>\n",
       "      <th>DL</th>\n",
       "      <td>281538</td>\n",
       "      <td>281538</td>\n",
       "    </tr>\n",
       "    <tr>\n",
       "      <th>EV</th>\n",
       "      <td>168577</td>\n",
       "      <td>168577</td>\n",
       "    </tr>\n",
       "    <tr>\n",
       "      <th>F9</th>\n",
       "      <td>34788</td>\n",
       "      <td>34788</td>\n",
       "    </tr>\n",
       "    <tr>\n",
       "      <th>HA</th>\n",
       "      <td>20120</td>\n",
       "      <td>20120</td>\n",
       "    </tr>\n",
       "    <tr>\n",
       "      <th>MQ</th>\n",
       "      <td>92822</td>\n",
       "      <td>92822</td>\n",
       "    </tr>\n",
       "    <tr>\n",
       "      <th>NK</th>\n",
       "      <td>51922</td>\n",
       "      <td>51922</td>\n",
       "    </tr>\n",
       "    <tr>\n",
       "      <th>OO</th>\n",
       "      <td>170495</td>\n",
       "      <td>170495</td>\n",
       "    </tr>\n",
       "    <tr>\n",
       "      <th>UA</th>\n",
       "      <td>255368</td>\n",
       "      <td>255368</td>\n",
       "    </tr>\n",
       "    <tr>\n",
       "      <th>US</th>\n",
       "      <td>62254</td>\n",
       "      <td>62254</td>\n",
       "    </tr>\n",
       "    <tr>\n",
       "      <th>VX</th>\n",
       "      <td>23298</td>\n",
       "      <td>23298</td>\n",
       "    </tr>\n",
       "    <tr>\n",
       "      <th>WN</th>\n",
       "      <td>564396</td>\n",
       "      <td>564396</td>\n",
       "    </tr>\n",
       "  </tbody>\n",
       "</table>\n",
       "</div>"
      ],
      "text/plain": [
       "         AIRLINE  DEPARTURE_DELAY\n",
       "AIRLINE                          \n",
       "AA        244539           244539\n",
       "AS         43358            43358\n",
       "B6        101574           101574\n",
       "DL        281538           281538\n",
       "EV        168577           168577\n",
       "F9         34788            34788\n",
       "HA         20120            20120\n",
       "MQ         92822            92822\n",
       "NK         51922            51922\n",
       "OO        170495           170495\n",
       "UA        255368           255368\n",
       "US         62254            62254\n",
       "VX         23298            23298\n",
       "WN        564396           564396"
      ]
     },
     "execution_count": 63,
     "metadata": {},
     "output_type": "execute_result"
    }
   ],
   "source": [
    "Percentage_flights_delayed = flight_data.loc[flight_data['DEPARTURE_DELAY']>0,['AIRLINE','DEPARTURE_DELAY']].groupby(['AIRLINE']).apply(lambda x: x.count())\n",
    "Percentage_flights_delayed"
   ]
  },
  {
   "cell_type": "code",
   "execution_count": 65,
   "metadata": {
    "collapsed": true
   },
   "outputs": [],
   "source": [
    "# For Decision Tree Implementation\n",
    "\n",
    "le = preprocessing.LabelEncoder()\n",
    "flight_data['AIRLINE_ENCODE'] = le.fit_transform(flight_data['AIRLINE'])\n",
    "flight_data['ORIGIN_AIRPORT_ENCODE'] = le.fit_transform(flight_data['ORIGIN_AIRPORT'])\n",
    "flight_data['DESTINATION_AIRPORT_ENCODE'] = le.fit_transform(flight_data['DESTINATION_AIRPORT'])"
   ]
  },
  {
   "cell_type": "code",
   "execution_count": 121,
   "metadata": {
    "collapsed": false
   },
   "outputs": [],
   "source": [
    "train, test = train_test_split(flight_data, test_size = 0.25)\n",
    "C = DecisionTreeClassifier(criterion='gini',splitter='best', max_depth=None, min_samples_split=1000)\n",
    "Features = ['DAY_OF_WEEK','AIRLINE_ENCODE', 'ORIGIN_AIRPORT_ENCODE', 'DESTINATION_AIRPORT_ENCODE', 'DEPARTURE_TIME',\n",
    "           'ELAPSED_TIME', 'AIR_TIME', 'DISTANCE', 'DAY_TYPE']\n",
    "X_train = train[Features]\n",
    "y_train = train[\"DEP_DELAY_BIN\"]\n",
    "X_test = test[Features]\n",
    "y_test = test[\"DEP_DELAY_BIN\"]\n",
    "dt = C.fit(X_train,y_train)\n",
    "y_pred = C.predict(X_test)"
   ]
  },
  {
   "cell_type": "code",
   "execution_count": 122,
   "metadata": {
    "collapsed": false
   },
   "outputs": [
    {
     "data": {
      "text/plain": [
       "array([[1154831,    9053,    2094,      90],\n",
       "       [ 163026,   15007,    2581,      48],\n",
       "       [  57307,    5616,    6426,     351],\n",
       "       [   8791,     986,    1640,     655]])"
      ]
     },
     "execution_count": 122,
     "metadata": {},
     "output_type": "execute_result"
    }
   ],
   "source": [
    "confusion_matrix(y_test, y_pred)"
   ]
  },
  {
   "cell_type": "code",
   "execution_count": 123,
   "metadata": {
    "collapsed": false
   },
   "outputs": [
    {
     "data": {
      "text/plain": [
       "0.82388334073035951"
      ]
     },
     "execution_count": 123,
     "metadata": {},
     "output_type": "execute_result"
    }
   ],
   "source": [
    "accuracy_score(y_test, y_pred)"
   ]
  },
  {
   "cell_type": "code",
   "execution_count": 124,
   "metadata": {
    "collapsed": true
   },
   "outputs": [],
   "source": [
    "precision, recall, fscore, support = score(y_test, y_pred)"
   ]
  },
  {
   "cell_type": "code",
   "execution_count": 125,
   "metadata": {
    "collapsed": false
   },
   "outputs": [
    {
     "name": "stdout",
     "output_type": "stream",
     "text": [
      "[ 0.83444259  0.48943317  0.50435602  0.57255245]\n",
      "[ 0.99036334  0.08306672  0.09219512  0.05425779]\n",
      "[ 0.90574163  0.14202835  0.15589331  0.09912228]\n",
      "[1166068  180662   69700   12072]\n"
     ]
    }
   ],
   "source": [
    "print precision\n",
    "print recall \n",
    "print fscore \n",
    "print support"
   ]
  },
  {
   "cell_type": "code",
   "execution_count": 128,
   "metadata": {
    "collapsed": false
   },
   "outputs": [],
   "source": [
    "dotfile = open('/home/kkanagalananthapadm1/dtree.dat','w')\n",
    "type(y_pred)\n",
    "dotfile = tree.export_graphviz(dt, out_file = dotfile)"
   ]
  },
  {
   "cell_type": "code",
   "execution_count": 100,
   "metadata": {
    "collapsed": false
   },
   "outputs": [],
   "source": [
    "clf = RandomForestClassifier(n_jobs=2, random_state=0)"
   ]
  },
  {
   "cell_type": "code",
   "execution_count": 129,
   "metadata": {
    "collapsed": false
   },
   "outputs": [],
   "source": [
    "y_pred_rf = clf.fit(X_train,y_train)"
   ]
  },
  {
   "cell_type": "code",
   "execution_count": 105,
   "metadata": {
    "collapsed": false
   },
   "outputs": [
    {
     "data": {
      "text/plain": [
       "RandomForestClassifier(bootstrap=True, class_weight=None, criterion='gini',\n",
       "            max_depth=None, max_features='auto', max_leaf_nodes=None,\n",
       "            min_impurity_split=1e-07, min_samples_leaf=1,\n",
       "            min_samples_split=2, min_weight_fraction_leaf=0.0,\n",
       "            n_estimators=10, n_jobs=2, oob_score=False, random_state=0,\n",
       "            verbose=0, warm_start=False)"
      ]
     },
     "execution_count": 105,
     "metadata": {},
     "output_type": "execute_result"
    }
   ],
   "source": [
    "y_pred_rf"
   ]
  },
  {
   "cell_type": "code",
   "execution_count": 1,
   "metadata": {
    "collapsed": false
   },
   "outputs": [
    {
     "ename": "NameError",
     "evalue": "name 'clf' is not defined",
     "output_type": "error",
     "traceback": [
      "\u001b[0;31m---------------------------------------------------------------------------\u001b[0m",
      "\u001b[0;31mNameError\u001b[0m                                 Traceback (most recent call last)",
      "\u001b[0;32m<ipython-input-1-889134eeab39>\u001b[0m in \u001b[0;36m<module>\u001b[0;34m()\u001b[0m\n\u001b[0;32m----> 1\u001b[0;31m \u001b[0my_pred_final\u001b[0m \u001b[0;34m=\u001b[0m \u001b[0mclf\u001b[0m\u001b[0;34m.\u001b[0m\u001b[0mpredict\u001b[0m\u001b[0;34m(\u001b[0m\u001b[0mX_test\u001b[0m\u001b[0;34m)\u001b[0m\u001b[0;34m\u001b[0m\u001b[0m\n\u001b[0m",
      "\u001b[0;31mNameError\u001b[0m: name 'clf' is not defined"
     ]
    }
   ],
   "source": [
    "y_pred_final = clf.predict(X_test)"
   ]
  },
  {
   "cell_type": "code",
   "execution_count": null,
   "metadata": {
    "collapsed": true
   },
   "outputs": [],
   "source": []
  },
  {
   "cell_type": "code",
   "execution_count": 110,
   "metadata": {
    "collapsed": false
   },
   "outputs": [
    {
     "data": {
      "text/plain": [
       "0.8567695389995954"
      ]
     },
     "execution_count": 110,
     "metadata": {},
     "output_type": "execute_result"
    }
   ],
   "source": [
    "accuracy_score(y_test, y_pred_final)"
   ]
  },
  {
   "cell_type": "code",
   "execution_count": 112,
   "metadata": {
    "collapsed": true
   },
   "outputs": [],
   "source": [
    "rf_precision, rf_recall, rf_fscore, rf_support = score(y_test, y_pred_final)"
   ]
  },
  {
   "cell_type": "code",
   "execution_count": 113,
   "metadata": {
    "collapsed": false
   },
   "outputs": [
    {
     "name": "stdout",
     "output_type": "stream",
     "text": [
      "[ 0.87774196  0.64853543  0.62791499  0.52891903]\n",
      "[ 0.98035715  0.34159114  0.25943215  0.11109249]\n",
      "[ 0.92621605  0.44748614  0.36716484  0.18361836]\n",
      "[1165462  180839   70265   11936]\n"
     ]
    }
   ],
   "source": [
    "print rf_precision\n",
    "print rf_recall \n",
    "print rf_fscore \n",
    "print rf_support"
   ]
  }
 ],
 "metadata": {
  "kernelspec": {
   "display_name": "Python 2",
   "language": "python",
   "name": "python2"
  },
  "language_info": {
   "codemirror_mode": {
    "name": "ipython",
    "version": 2
   },
   "file_extension": ".py",
   "mimetype": "text/x-python",
   "name": "python",
   "nbconvert_exporter": "python",
   "pygments_lexer": "ipython2",
   "version": "2.7.5"
  }
 },
 "nbformat": 4,
 "nbformat_minor": 0
}
